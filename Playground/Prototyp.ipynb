{
 "cells": [
  {
   "cell_type": "markdown",
   "id": "fbf115ac",
   "metadata": {},
   "source": [
    "Datensicherung"
   ]
  },
  {
   "cell_type": "code",
   "execution_count": null,
   "id": "266bf211",
   "metadata": {
    "vscode": {
     "languageId": "plaintext"
    }
   },
   "outputs": [],
   "source": [
    "import json\n",
    "\n",
    "def read_json()"
   ]
  }
 ],
 "metadata": {
  "language_info": {
   "name": "python"
  }
 },
 "nbformat": 4,
 "nbformat_minor": 5
}
